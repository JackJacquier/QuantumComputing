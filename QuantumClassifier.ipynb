{
 "cells": [
  {
   "cell_type": "markdown",
   "id": "96177192-3534-41a6-887b-694e4d10da95",
   "metadata": {},
   "source": [
    "# **Quantum neural network for classification**\n",
    "---\n",
    "<img src=\"http://www.doc.ic.ac.uk/~afd/images/logo_imperial_college_london.png\" align = \"left\" width=200>\n",
    " <br><br><br><br>\n",
    " \n",
    "- Copyright (c) Antoine Jacquier, 2024. All rights reserved\n",
    "\n",
    "- Author: Jack Jacquier <a.jacquier@imperial.ac.uk>\n",
    "\n",
    "- Platform: Tested on Windows 10 with Python 3.9"
   ]
  },
  {
   "cell_type": "markdown",
   "id": "8e54a5f7-b7e5-445c-970e-7e749a91f8ee",
   "metadata": {},
   "source": [
    "We work here on a $\\{0,1\\}$ binary classification problem. We therefore only use 1 qubit."
   ]
  },
  {
   "cell_type": "code",
   "execution_count": null,
   "id": "7b030c9f-3de4-45ef-887b-b568f7db71e2",
   "metadata": {},
   "outputs": [],
   "source": [
    "from qiskit import QuantumCircuit, QuantumRegister, ClassicalRegister\n",
    "from qiskit import *\n",
    "from qiskit.quantum_info import state_fidelity\n",
    "from sklearn.metrics import log_loss\n",
    "import numpy as np\n",
    "from sklearn.model_selection import train_test_split\n",
    "from sklearn.preprocessing import MinMaxScaler\n",
    "from sklearn.datasets import make_moons\n",
    "import matplotlib.pylab as plt"
   ]
  },
  {
   "cell_type": "markdown",
   "id": "085740f2-667b-4a28-b482-b31f15180f5e",
   "metadata": {},
   "source": [
    "# Generating (noisy) data"
   ]
  },
  {
   "cell_type": "code",
   "execution_count": null,
   "id": "994a1baf-f75b-4ef1-a65d-18161a87f71a",
   "metadata": {},
   "outputs": [],
   "source": [
    "def generate_data(n_samples, noise, threshold):\n",
    "    samplePoints = np.random.rand(n_samples, 2)\n",
    "    labels = list(map(lambda xx: 1*(xx[0]**2 + xx[1]**3 >= threshold), samplePoints))\n",
    "    ## {0,1} labels depending on whether a point in samplePoints is below or above the diagonal\n",
    "    \n",
    "    ################################################################\n",
    "    ####### create some noise by swapping some of the labels #######\n",
    "    ################################################################\n",
    "    \n",
    "    if noise[0] == 1: ## Swaps some labels randomly (in proportion \"noise[1]\")\n",
    "        n = int(np.floor(noise[1]*n_samples))\n",
    "        noise_sample = np.random.randint(0,n_samples, n)\n",
    "\n",
    "        for i in noise_sample:\n",
    "            labels[i] = int((1-labels[i])**2)\n",
    "    \n",
    "    else: ## Swaps some labels in the corners\n",
    "        for (i,s) in enumerate(samplePoints):\n",
    "            if ((s[0] < noise[1]) and (s[1] > 1.- noise[1])):\n",
    "                labels[i] = 1\n",
    "            if ((s[0] >  1.-noise[1]) and (s[1] < noise[1])):\n",
    "                labels[i] = 0\n",
    "        \n",
    "    labels = np.reshape(labels, (len(labels), ))\n",
    "    \n",
    "    return samplePoints, labels"
   ]
  },
  {
   "cell_type": "code",
   "execution_count": null,
   "id": "f8e69811-20de-4658-a05c-4bdea074bb85",
   "metadata": {},
   "outputs": [],
   "source": [
    "def createData_test_train(generated_data, labels):\n",
    "    \"\"\"\n",
    "    Creates test and training data sets with their labels\n",
    "    \"\"\"\n",
    "    \n",
    "    x_train, x_test, y_train, y_test = train_test_split(generated_data, labels, stratify=labels, test_size=None, random_state=None)\n",
    "    \n",
    "    scale = MinMaxScaler(feature_range=(-1,1)).fit(x_train)\n",
    "    x_train = scale.transform(x_train)\n",
    "    x_test = scale.transform(x_test)\n",
    "    \n",
    "    return x_train, y_train, x_test, y_test"
   ]
  },
  {
   "cell_type": "markdown",
   "id": "919d2908-fe20-47c5-94c6-0b0b9ba87af3",
   "metadata": {},
   "source": [
    "## Examples\n",
    "\n",
    "Run only one of the examples below"
   ]
  },
  {
   "cell_type": "code",
   "execution_count": null,
   "id": "bf09959a-644e-4a31-bdbf-378c06ac38c2",
   "metadata": {},
   "outputs": [],
   "source": [
    "n_samples = 200"
   ]
  },
  {
   "cell_type": "markdown",
   "id": "bed8167d-f212-43a1-a818-87ebbf3eef53",
   "metadata": {},
   "source": [
    "#### Example 1\n",
    "\n",
    "Generate random numbers in the unit square and assign them {0,1} labels if they are above or below the diagonal.\n",
    "The noise swaps some labels randomly."
   ]
  },
  {
   "cell_type": "code",
   "execution_count": null,
   "id": "d3043978-eeed-4dfb-976a-3e7d3c065741",
   "metadata": {},
   "outputs": [],
   "source": [
    "threshold = 0.7\n",
    "noise = [1, 0.0] \n",
    "\n",
    "generated_data, labels = generate_data(n_samples, noise, threshold)"
   ]
  },
  {
   "cell_type": "markdown",
   "id": "a0a94f81-d52e-4c26-9350-f9fa4f81ce7f",
   "metadata": {},
   "source": [
    "#### Example 2\n",
    "\n",
    "Generate random numbers in the unit square and assign them {0,1} labels if they are above or below the diagonal.\n",
    "The noise swaps labels in the corners."
   ]
  },
  {
   "cell_type": "code",
   "execution_count": null,
   "id": "7187d669-b63f-4393-957c-a3506cf088de",
   "metadata": {},
   "outputs": [],
   "source": [
    "threshold = 0.7\n",
    "noise = [0, 0.2] ## Noise to swap some label in the corners\n",
    "generated_data, labels = generate_data(n_samples, noise, threshold)"
   ]
  },
  {
   "cell_type": "markdown",
   "id": "8615a0e9-e6b5-4af1-a2de-32f459885aef",
   "metadata": {},
   "source": [
    "## Visualise data\n",
    "\n",
    "Create the training and test sets and plot the train set"
   ]
  },
  {
   "cell_type": "code",
   "execution_count": null,
   "id": "aac52b04-1086-40aa-88ef-c35a2181ce65",
   "metadata": {},
   "outputs": [],
   "source": [
    "### Split training and test sets\n",
    "x_train, y_train, x_test, y_test = createData_test_train(generated_data, labels)"
   ]
  },
  {
   "cell_type": "code",
   "execution_count": null,
   "id": "b070cbbb-199a-4902-86c1-2e019dd1ee1a",
   "metadata": {},
   "outputs": [],
   "source": [
    "plt.scatter(x_train[:,0][y_train==0], x_train[:,1][y_train==0], s=20, facecolors='none', edgecolors='r')\n",
    "plt.scatter(x_train[:,0][y_train==1], x_train[:,1][y_train==1], marker='+', color='blue')\n",
    "plt.title(\"Original labelled data (with some noise)\")\n",
    "plt.show()"
   ]
  },
  {
   "cell_type": "markdown",
   "id": "b85f0b53-9c35-4b8d-8799-0e03fc25f38c",
   "metadata": {},
   "source": [
    "# Quantum circuit for classification"
   ]
  },
  {
   "cell_type": "markdown",
   "id": "fd3cb8a6-8c00-4b20-9c7b-32aaab4fc230",
   "metadata": {},
   "source": [
    "We construct a simple one-qubit classifier with the generic U3 quantum gate, detailed at https://qiskit.org/documentation/stubs/qiskit.circuit.library.U3Gate.html\n",
    "Note that it is now called `circuit.u`"
   ]
  },
  {
   "cell_type": "code",
   "execution_count": null,
   "id": "14f44fb7-63e1-4d5e-a7d9-ad8ce40382c7",
   "metadata": {},
   "outputs": [],
   "source": [
    "class QNN():\n",
    "    def __init__(self, n_layers, x_train, y_train, x_test, y_test, learning_rate):\n",
    "        self.n_layers = n_layers\n",
    "        self.x_train = x_train\n",
    "        self.y_train = y_train\n",
    "        self.x_test = x_test\n",
    "        self.y_test = y_test\n",
    "        self.state_labels = np.zeros((2,2),dtype=np.complex128)\n",
    "        self.state_labels[0,0] = 1.\n",
    "        self.state_labels[-1,-1] = 1.\n",
    "        self.gradient_shift = .5*np.pi\n",
    "        self.learning_rate = learning_rate\n",
    "        self.backend_sim = Aer.get_backend('statevector_simulator')\n",
    "        \n",
    "        self.weights = 2.*np.pi*np.random.rand(self.n_layers, 3) ## random initialisation of the weights\n",
    "        \n",
    "        \n",
    "    def circuit_for_plotting(self, x):\n",
    "        \"\"\"\n",
    "        Builds the circuit -- simply for plotting purposes\n",
    "        x: sample\n",
    "        \"\"\"\n",
    "\n",
    "        self.qc = QuantumCircuit(1)\n",
    "        self.qc.u(x[0], x[1], 0.,0)\n",
    "\n",
    "        ### Details of the U gate available here:\n",
    "        ### https://docs.quantum.ibm.com/api/qiskit/0.24/qiskit.circuit.library.UGate\n",
    "\n",
    "        for l in range(self.n_layers):\n",
    "            self.qc.u(self.weights[l][0], self.weights[l][1], self.weights[l][2],0)\n",
    "    \n",
    "    def circuit(self, x):\n",
    "\n",
    "        self.qc = QuantumCircuit(1)\n",
    "        \n",
    "        self.qc.u(x[0], x[1], 0., 0) ## Encoding the data\n",
    "            \n",
    "        for l in range(self.n_layers):\n",
    "            self.qc.u(self.weights[l][0], self.weights[l][1], self.weights[l][2],0)\n",
    "\n",
    "\n",
    "        job_sim = execute(self.qc, self.backend_sim)\n",
    "\n",
    "        result_sim = job_sim.result()\n",
    "\n",
    "        state_vector = result_sim.get_statevector(self.qc)\n",
    "\n",
    "        self.fidelity_1 = state_fidelity(state_vector,self.state_labels[0])\n",
    "        self.fidelity_2 = state_fidelity(state_vector,self.state_labels[1])\n",
    "        \n",
    "\n",
    "    def cost(self, x, y):\n",
    "        \"\"\"\n",
    "        Cross entropy cost from the computed fidelities and the corresponding labels\n",
    "        \"\"\"\n",
    "        \n",
    "        value = []\n",
    "        for xTemp in x:\n",
    "            self.circuit(xTemp)\n",
    "            value.append([self.fidelity_1, self.fidelity_2])\n",
    "\n",
    "        return log_loss(y, value)\n",
    "    \n",
    "\n",
    "    def gradient(self, x, y):\n",
    "        \"\"\"\n",
    "        Computes the gradients\n",
    "        x: sample\n",
    "        y: corresponding label\n",
    "        \"\"\"\n",
    "\n",
    "        #####   We follow https://arxiv.org/pdf/1811.11184.pdf for the computation of the gradient ##### \n",
    "\n",
    "        g = np.zeros(self.weights.shape)\n",
    "\n",
    "        for l in range(self.n_layers):\n",
    "            for i in range(len(self.weights[l])):\n",
    "\n",
    "                original_value = self.weights[l][i]\n",
    "\n",
    "                self.weights[l][i] = original_value + self.gradient_shift\n",
    "                F_plus = self.cost(x, y)\n",
    "\n",
    "                self.weights[l][i] = original_value - self.gradient_shift\n",
    "                F_minus = self.cost(x, y)\n",
    "\n",
    "                self.weights[l][i] = original_value\n",
    "\n",
    "                g[l][i] = .5 * (F_plus - F_minus)\n",
    "        return g\n",
    "    \n",
    "    \n",
    "    def optimize(self, x, y):\n",
    "        \"\"\"\n",
    "        Stochastic gradient algorithm\n",
    "        \"\"\"\n",
    "        self.weights = self.weights - self.learning_rate * self.gradient(x, y)\n",
    "    \n",
    "    \n",
    "    def predict(self, x):\n",
    "        \"\"\"\n",
    "        Prediction function, returns in [0,1]\n",
    "        \"\"\"\n",
    "\n",
    "        self.circuit(x)\n",
    "\n",
    "        if self.fidelity_1 > self.fidelity_2:\n",
    "            return abs(1.-self.fidelity_1)\n",
    "        else:\n",
    "            return self.fidelity_2"
   ]
  },
  {
   "cell_type": "markdown",
   "id": "3b574102-54a4-4ac3-a239-599398fe97de",
   "metadata": {},
   "source": [
    "## Creating and viewing the circuits"
   ]
  },
  {
   "cell_type": "markdown",
   "id": "b002da21-2ada-46a5-84bf-5bb5189139ef",
   "metadata": {},
   "source": [
    "`n_layers` is the number of unitary gates,  representing the complexity of the quantum neural network. \n",
    "\n",
    "There are three parameters (to optimise) per gate, so the larger the number of layers, the harder it is to train.\n",
    "\n",
    "The parameter `learning_rate` is needed for the stochastic gradient algorithm."
   ]
  },
  {
   "cell_type": "code",
   "execution_count": null,
   "id": "cd0b16ce-e2eb-4534-bb36-60b1113deba0",
   "metadata": {},
   "outputs": [],
   "source": [
    "n_layers = 5\n",
    "learning_rate = 0.01"
   ]
  },
  {
   "cell_type": "markdown",
   "id": "422b07e2-9aed-415c-89a8-9cf1091a769f",
   "metadata": {},
   "source": [
    "#### Creates an instance of the circuit"
   ]
  },
  {
   "cell_type": "code",
   "execution_count": null,
   "id": "b9058440-3f3e-4129-b406-2e546ed73837",
   "metadata": {},
   "outputs": [],
   "source": [
    "qnn = QNN(n_layers, x_train, y_train, x_test, y_test, learning_rate)"
   ]
  },
  {
   "cell_type": "markdown",
   "id": "a4c8488e-9e73-4c6c-8535-2ea9e8054083",
   "metadata": {},
   "source": [
    "Visualisation of the quantum circuit"
   ]
  },
  {
   "cell_type": "code",
   "execution_count": null,
   "id": "f8589528-d33b-492d-bf73-bb077afd6eaf",
   "metadata": {},
   "outputs": [],
   "source": [
    "qnn.circuit_for_plotting(x_test[0])\n",
    "print(x_test[0])\n",
    "qnn.qc.draw(output='mpl')"
   ]
  },
  {
   "cell_type": "markdown",
   "id": "7d4b57b2-93c3-4dfc-bfdd-0a77eaa1c951",
   "metadata": {},
   "source": [
    "Note: the first gate encodes the data (x[0],x[1]]), for each point x in the data set (recall that x represents the coordinates) in a quantum unitary gate.\n",
    "\n",
    "We could alternatively encode the two-dimensional vector x in a one-qubit quantum state after normalisation (probabilities summing up to one)."
   ]
  },
  {
   "cell_type": "markdown",
   "id": "cd81ce97-70dc-48b0-8489-59ec986e13cf",
   "metadata": {},
   "source": [
    "## Running the learning algorithm\n",
    "\n",
    "We optimise the system using classical stochastic gradient algorithm with mini-batches"
   ]
  },
  {
   "cell_type": "code",
   "execution_count": null,
   "id": "b2ff7f5a-1a1e-4287-a855-ef68ffb393bd",
   "metadata": {},
   "outputs": [],
   "source": [
    "nb_epochs = 500\n",
    "batch_size = 50"
   ]
  },
  {
   "cell_type": "code",
   "execution_count": null,
   "id": "792eccab-a5f0-493e-a2e6-3adbb50cafa1",
   "metadata": {},
   "outputs": [],
   "source": [
    "current_loss = np.inf\n",
    "total_losses = []\n",
    "for epoch in range(nb_epochs):\n",
    "    \n",
    "    # mini-batches\n",
    "    batch_indices = np.random.randint(0,len(x_train), batch_size)\n",
    "    x_batch, y_batch = x_train[batch_indices], y_train[batch_indices]\n",
    "    \n",
    "    qnn.optimize(x_batch, y_batch)\n",
    "    \n",
    "    res = qnn.cost(x_test, y_test)\n",
    "    \n",
    "    total_losses.append(res)\n",
    "\n",
    "    if res < current_loss:\n",
    "        current_loss = res\n",
    "        var = qnn.weights\n",
    "        \n",
    "    print(\"Epoch: {:2d} | Testing loss: {:4f}\".format(epoch+1, res))"
   ]
  },
  {
   "cell_type": "markdown",
   "id": "d53379c2-4d3b-4e9f-bdf6-45d82877d869",
   "metadata": {},
   "source": [
    "### Plot the evolution of the loss function"
   ]
  },
  {
   "cell_type": "code",
   "execution_count": null,
   "id": "292ca694-ad5f-440b-88cb-8f7b21ad2a07",
   "metadata": {},
   "outputs": [],
   "source": [
    "plt.xlabel('Number of epochs')\n",
    "plt.ylabel('Loss')\n",
    "plt.plot(range(len(total_losses)),total_losses)\n",
    "plt.title(\"Loss function\")\n",
    "plt.show()"
   ]
  },
  {
   "cell_type": "markdown",
   "id": "7a23e119-11e8-4ce6-9730-ae47ce34b6f4",
   "metadata": {},
   "source": [
    "## Visualising the power of the quantum classifier\n",
    "\n",
    "We generate many points $n_{points}^2$ on the square and colour-highlight their predicted labels given the optimised quantum cicuit"
   ]
  },
  {
   "cell_type": "code",
   "execution_count": null,
   "id": "988d31d1-986e-491d-a311-39542f846cf2",
   "metadata": {},
   "outputs": [],
   "source": [
    "axMin, axMax = -1.1, 1.1\n",
    "n_points = 20\n",
    "xx, yy = np.meshgrid(np.linspace(axMin, axMax, n_points), np.linspace(axMin, axMax, n_points))\n",
    "\n",
    "xx_grid = [np.array([x, y]) for x, y in zip(xx.flatten(), yy.flatten())]\n",
    "\n",
    "predictions_grid = [qnn.predict(x) for x in xx_grid]"
   ]
  },
  {
   "cell_type": "code",
   "execution_count": null,
   "id": "37748700-2475-4352-8b15-e1b21ac45c2e",
   "metadata": {},
   "outputs": [],
   "source": [
    "Z = np.reshape(np.array(predictions_grid).round(), xx.shape)\n",
    "\n",
    "cm = plt.cm.RdBu\n",
    "cnt = plt.contourf(xx, yy, Z, levels=np.arange(0., 1.1, 0.1), cmap=cm, alpha=.2)\n",
    "\n",
    "plt.scatter(x_train[:, 0][y_train==0], x_train[:, 1][y_train==0], c='r', marker='+')\n",
    "plt.scatter(x_train[:, 0][y_train==1], x_train[:, 1][y_train==1], c='b', marker='+')\n",
    "\n",
    "plt.scatter(np.array(x_test[:, 0][y_test==0]), np.array(x_test[:, 1][y_test==0]), s=20, facecolors='none', edgecolors='r')\n",
    "plt.scatter(x_test[:, 0][y_test==1], x_test[:, 1][y_test==1], s=80, facecolors='none', edgecolors='b')\n",
    "\n",
    "plt.show()"
   ]
  },
  {
   "cell_type": "markdown",
   "id": "56f6686f-1a17-45e7-be8c-d3260b72e0aa",
   "metadata": {},
   "source": [
    "The crosses correspond to the training set (over which the quantum network is optimised), while the circles correspond to the test set. \n",
    "\n",
    "The shaded regions are the predicted labels for a large number of points in the square."
   ]
  },
  {
   "cell_type": "code",
   "execution_count": null,
   "id": "fd8f68c5-dd95-4360-8e34-1fd86a9839d5",
   "metadata": {},
   "outputs": [],
   "source": []
  }
 ],
 "metadata": {
  "kernelspec": {
   "display_name": "Python 3 (ipykernel)",
   "language": "python",
   "name": "python3"
  },
  "language_info": {
   "codemirror_mode": {
    "name": "ipython",
    "version": 3
   },
   "file_extension": ".py",
   "mimetype": "text/x-python",
   "name": "python",
   "nbconvert_exporter": "python",
   "pygments_lexer": "ipython3",
   "version": "3.10.11"
  }
 },
 "nbformat": 4,
 "nbformat_minor": 5
}
