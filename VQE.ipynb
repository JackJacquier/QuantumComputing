{
 "cells": [
  {
   "cell_type": "markdown",
   "id": "8c6e87b1-3c68-4b23-863e-1fb0f8582e50",
   "metadata": {},
   "source": [
    "# **Variational Quantum Eigensolver**\n",
    "---\n",
    "<img src=\"http://www.doc.ic.ac.uk/~afd/images/logo_imperial_college_london.png\" align = \"left\" width=200>\n",
    " <br><br><br><br>\n",
    " \n",
    "- Copyright (c) Antoine Jacquier, 2023. All rights reserved\n",
    "\n",
    "- Author: Jack Jacquier <a.jacquier@imperial.ac.uk>\n",
    "\n",
    "- Platform: Tested on Windows 10 with Python 3.9"
   ]
  },
  {
   "cell_type": "code",
   "execution_count": 1,
   "id": "371f7343-ce21-4fe9-96de-13bc1224ee2e",
   "metadata": {},
   "outputs": [],
   "source": [
    "import numpy as np\n",
    "from random import random\n",
    "from scipy.optimize import minimize\n",
    "\n",
    "from qiskit import *\n",
    "from numpy import linalg as LA"
   ]
  },
  {
   "cell_type": "markdown",
   "id": "c1303bb5-53d5-4592-b40b-70b184109b81",
   "metadata": {},
   "source": [
    "## Generating a Hamiltonian from Pauli operators"
   ]
  },
  {
   "cell_type": "code",
   "execution_count": 2,
   "id": "48b1ba90-9eb6-4f1e-9f22-6b7222fde34f",
   "metadata": {},
   "outputs": [],
   "source": [
    "def matprint(mat, fmt=\"g\"):\n",
    "    ## Just to print a matrix nicely\n",
    "    col_maxes = [max([len((\"{:\"+fmt+\"}\").format(x)) for x in col]) for col in mat.T]\n",
    "    for x in mat:\n",
    "        for i, y in enumerate(x):\n",
    "            print((\"{:\"+str(col_maxes[i])+fmt+\"}\").format(y), end=\"  \")\n",
    "        print(\"\")"
   ]
  },
  {
   "cell_type": "code",
   "execution_count": 3,
   "id": "5ace30ef-09d9-45d7-a9c0-a6107b757b44",
   "metadata": {},
   "outputs": [],
   "source": [
    "GATE_NAMES = [\"I\", \"Z\", \"X\", \"Y\"]"
   ]
  },
  {
   "cell_type": "code",
   "execution_count": 4,
   "id": "fec1b2b2-0734-4985-8aa2-66081b62c696",
   "metadata": {},
   "outputs": [],
   "source": [
    "coefficients = 3.*np.random.rand(len(GATE_NAMES))"
   ]
  },
  {
   "cell_type": "code",
   "execution_count": 5,
   "id": "6eef7f17-f559-4c2b-8e87-6ca8c0ebd574",
   "metadata": {},
   "outputs": [],
   "source": [
    "hamiltonian = {}\n",
    "for (i,g) in enumerate(GATE_NAMES):\n",
    "    hamiltonian[g] = coefficients[i]"
   ]
  },
  {
   "cell_type": "code",
   "execution_count": 6,
   "id": "d9354186-6227-40fe-b86b-783fb18912ba",
   "metadata": {},
   "outputs": [
    {
     "name": "stdout",
     "output_type": "stream",
     "text": [
      "Pauli decomposition of the matrix: \n",
      "I :  1.3721317026796056\n",
      "Z :  0.45387378089030195\n",
      "X :  1.8607947059115135\n",
      "Y :  2.9925492675576097\n"
     ]
    }
   ],
   "source": [
    "print(\"Pauli decomposition of the matrix: \")\n",
    "for gate_name in hamiltonian:\n",
    "    print(gate_name, \": \", hamiltonian[gate_name])"
   ]
  },
  {
   "cell_type": "markdown",
   "id": "2dd930b2-5043-44a6-a16d-7581c9fe19b0",
   "metadata": {},
   "source": [
    "### Matrix representation"
   ]
  },
  {
   "cell_type": "code",
   "execution_count": 7,
   "id": "874e63f5-842d-4092-a9e0-52b89ac076df",
   "metadata": {},
   "outputs": [
    {
     "name": "stdout",
     "output_type": "stream",
     "text": [
      "The 2*2 matrix representation of the Hamiltonian is\n",
      "      1.82601+0j  1.86079-2.99255j  \n",
      "1.86079+2.99255j       0.918258+0j  \n"
     ]
    }
   ],
   "source": [
    "pauli_matrices = {\"I\": np.array([[1., 0.],[0., 1.]]),\n",
    "                  \"Z\": np.array([[1., 0.],[0., -1.]]),\n",
    "                  \"X\": np.array([[0., 1.],[1., 0.]]),\n",
    "                  \"Y\": np.array([[0., -1j],[1j, 0.]])\n",
    "                 }\n",
    "\n",
    "H_matrix = np.zeros((2,2))\n",
    "\n",
    "for g in GATE_NAMES:\n",
    "    H_matrix = H_matrix + hamiltonian[g]*pauli_matrices[g]\n",
    "\n",
    "print(\"The 2*2 matrix representation of the Hamiltonian is\")\n",
    "matprint(H_matrix)"
   ]
  },
  {
   "cell_type": "code",
   "execution_count": 8,
   "id": "3be7f253-481c-4f2b-bcb3-bd6a08b1856b",
   "metadata": {},
   "outputs": [
    {
     "name": "stdout",
     "output_type": "stream",
     "text": [
      "Eigenpair:  (4.9251+0j) [ 0.7509+0.j     -0.3487+0.5608j]\n",
      "Eigenpair:  (-2.1809-0j) [0.3487+0.5608j 0.7509+0.j    ]\n"
     ]
    }
   ],
   "source": [
    "eigenpairs = LA.eig(H_matrix)\n",
    "for i in range(len(eigenpairs)):\n",
    "    print(\"Eigenpair: \", np.round(eigenpairs[0][i], 4), np.round(eigenpairs[1][i], 4))"
   ]
  },
  {
   "cell_type": "code",
   "execution_count": 9,
   "id": "65fe5316-c38a-4af1-8460-f6ef56d91d9c",
   "metadata": {},
   "outputs": [
    {
     "name": "stdout",
     "output_type": "stream",
     "text": [
      "Minimum eigenvalue:  -2.1808824353850826\n"
     ]
    }
   ],
   "source": [
    "classical_min_eigenvalue = np.min(eigenpairs[0].real)\n",
    "print(\"Minimum eigenvalue: \", classical_min_eigenvalue)"
   ]
  },
  {
   "cell_type": "markdown",
   "id": "3ae2a7b9-36c1-4deb-8f29-f71cef41e19d",
   "metadata": {},
   "source": [
    "# TEST VQE"
   ]
  },
  {
   "cell_type": "markdown",
   "id": "587ff3c3-6108-4b67-9ef0-522976054467",
   "metadata": {},
   "source": [
    "Recall that any vector in $\\mathbb{C}^2$, viewed as a one-qubit quantum state, can be written as\n",
    "$$\n",
    "|\\psi\\rangle = \\begin{pmatrix}\n",
    "\\cos\\left(\\frac{\\theta}{2}\\right)\\\\\n",
    "\\mathrm{e}^{\\mathrm{i}\\varphi}\\sin\\left(\\frac{\\theta}{2}\\right)\\\\\n",
    "\\end{pmatrix},\n",
    "$$\n",
    "for some $\\varphi, \\theta \\in \\mathbb{R}$.\n",
    "Now, with the rotation matrices\n",
    "$$\n",
    "R_{X}(\\theta) := \n",
    "\\begin{pmatrix}\n",
    "\\cos\\left(\\frac{\\theta}{2}\\right) & -\\mathrm{i}\\sin\\left(\\frac{\\theta}{2}\\right)\\\\\n",
    "-\\mathrm{i}\\sin\\left(\\frac{\\theta}{2}\\right) & \\cos\\left(\\frac{\\theta}{2}\\right)\n",
    "\\end{pmatrix}\n",
    "\\qquad\\text{and}\\qquad\n",
    "R_{Y}(\\theta) := \n",
    "\\begin{pmatrix}\n",
    "\\cos\\left(\\frac{\\theta}{2}\\right) & -\\sin\\left(\\frac{\\theta}{2}\\right)\\\\\n",
    "\\sin\\left(\\frac{\\theta}{2}\\right) & \\cos\\left(\\frac{\\theta}{2}\\right)\n",
    "\\end{pmatrix},\n",
    "$$\n",
    "we know that we can find $\\theta_0, \\theta_1$ such that\n",
    "$$\n",
    "|\\psi\\rangle = R_{Y}(\\theta_1)R_{X}(\\theta_0)|0\\rangle.\n",
    "$$"
   ]
  },
  {
   "cell_type": "markdown",
   "id": "d9e65707-6d6d-413a-b50a-2e8525fd895d",
   "metadata": {},
   "source": [
    "Note that the general `qiskit` U gate is defined as\n",
    "$$\n",
    "U(\\theta, \\phi, \\lambda) := \n",
    "\\begin{pmatrix}\n",
    "\\cos\\left(\\frac{\\theta}{2}\\right) & -\\mathrm{e}^{\\mathrm{i}\\lambda}\\sin\\left(\\frac{\\theta}{2}\\right)\\\\\n",
    "\\mathrm{e}^{\\mathrm{i}\\phi}\\sin\\left(\\frac{\\theta}{2}\\right) & \\mathrm{e}^{\\mathrm{i}(\\phi+\\lambda)}\\cos\\left(\\frac{\\theta}{2}\\right)\n",
    "\\end{pmatrix}.\n",
    "$$\n",
    "In particular, \n",
    "$$\n",
    "U\\left(\\frac{\\pi}{2}, 0, \\pi\\right) = \\mathrm{H} = \\frac{1}{\\sqrt{2}}\\begin{pmatrix}1&1\\\\1&-1\\end{pmatrix}\n",
    "\\qquad\\text{and}\\qquad\n",
    "U\\left(\\frac{\\pi}{2}, 0, \\frac{\\pi}{2}\\right) = \\mathrm{G} = \\frac{1}{\\sqrt{2}}\\begin{pmatrix}1&-\\mathrm{i}\\\\1&\\mathrm{i}\\end{pmatrix}.\n",
    "$$"
   ]
  },
  {
   "cell_type": "code",
   "execution_count": 10,
   "id": "316e21db-bc26-4b8f-9966-bea9a6335455",
   "metadata": {},
   "outputs": [],
   "source": [
    "def param_qc(thetas, gate_name):\n",
    "    \"\"\"\n",
    "    Ansatz circuit for the optimization\n",
    "    :params: parameters for the rotation gates\n",
    "    :measure: Pauli measurement reference\n",
    "    :returns a quantum circuit.\n",
    "    \"\"\"\n",
    "\n",
    "    qc = QuantumCircuit(1)\n",
    "\n",
    "    ## create a general one-qubit quantum state (using the two rotations matrices above)\n",
    "    qc.rx(thetas[0], 0)\n",
    "    qc.ry(thetas[1], 0)\n",
    "\n",
    "    ## Add an extra gate\n",
    "    if gate_name == 'X':\n",
    "        qc.h(0)\n",
    "        \n",
    "    elif gate_name == 'Y':\n",
    "        qc.u(.5*np.pi, 0, .5*np.pi, 0) ## Corresponds to the G gate\n",
    "\n",
    "    qc.measure_all()\n",
    "    return qc"
   ]
  },
  {
   "cell_type": "code",
   "execution_count": 11,
   "id": "8d75e093-58d2-4cb6-85ff-6e656fd1ce8d",
   "metadata": {},
   "outputs": [],
   "source": [
    "def quantum_expectation(thetas, gate_name, nbShots):\n",
    "    # measure\n",
    "    if gate_name == 'I':\n",
    "        return 1\n",
    "    else:\n",
    "        qc = param_qc(thetas, gate_name)\n",
    "    \n",
    "    shots = nbShots\n",
    "    backend = BasicAer.get_backend('qasm_simulator')\n",
    "    job = execute(qc, backend, shots=shots)\n",
    "    result = job.result()\n",
    "    counts = result.get_counts()\n",
    "    \n",
    "    expectation = 0\n",
    "    for c in counts:\n",
    "        sign = +1\n",
    "        \n",
    "        if c == '1':\n",
    "            sign = -1\n",
    "        expectation += sign * counts[c] / shots\n",
    "        \n",
    "    return expectation"
   ]
  },
  {
   "cell_type": "code",
   "execution_count": 12,
   "id": "a2480213-1b00-4303-8136-fe3b67f122f8",
   "metadata": {},
   "outputs": [],
   "source": [
    "def vqe(thetas, args):\n",
    "    args = hamiltonian, GATE_NAMES, nbShots\n",
    "    total_expectation = 0.\n",
    "    \n",
    "    for gatename in GATE_NAMES:\n",
    "        weight_gate = 0.\n",
    "        for k in hamiltonian.keys():\n",
    "            if k == gatename:\n",
    "                weight_gate = hamiltonian[k]\n",
    "        total_expectation += weight_gate * quantum_expectation(thetas, gatename, nbShots)\n",
    "\n",
    "    return total_expectation"
   ]
  },
  {
   "cell_type": "code",
   "execution_count": 13,
   "id": "ba6cb532-2136-4bcf-84d8-9ee0d39a8c28",
   "metadata": {},
   "outputs": [
    {
     "name": "stdout",
     "output_type": "stream",
     "text": [
      "Starting parameter points:  [2.96444595 1.74123558]\n"
     ]
    }
   ],
   "source": [
    "### Define a starting point for the vector of parameters [theta[0], theta[1]]\n",
    "thetas = np.random.rand(2)*np.pi\n",
    "##np.array([.3*np.pi, .3*np.pi])\n",
    "print(\"Starting parameter points: \", thetas)\n",
    "nbShots = 5000\n",
    "\n",
    "vqe_result = minimize(vqe, thetas, args=[hamiltonian, GATE_NAMES, nbShots], method=\"Nelder-Mead\", tol=1e-20)"
   ]
  },
  {
   "cell_type": "code",
   "execution_count": 14,
   "id": "65468217-a55a-49d3-9be9-f81b17a0ce46",
   "metadata": {},
   "outputs": [
    {
     "name": "stdout",
     "output_type": "stream",
     "text": [
      "Optimal parameters theta: [2.09674299 1.89970459]\n",
      "VQE ground state energy  -2.1204\n",
      "Classical ground state energy  -2.1809\n"
     ]
    }
   ],
   "source": [
    "print('Optimal parameters theta:', vqe_result.x)\n",
    "print('VQE ground state energy  %.4f' %vqe_result.fun)\n",
    "print('Classical ground state energy  %.4f' %classical_min_eigenvalue)"
   ]
  },
  {
   "cell_type": "code",
   "execution_count": 15,
   "id": "726365db-3b7c-47de-8aef-5c28381ae4fe",
   "metadata": {},
   "outputs": [
    {
     "data": {
      "image/png": "[encoded data removed]",
      "text/plain": [
       "<Figure size 640x480 with 1 Axes>"
      ]
     },
     "metadata": {},
     "output_type": "display_data"
    }
   ],
   "source": [
    "import matplotlib.pylab as plt\n",
    "nbShots = 5000\n",
    "M = 20\n",
    "tt = np.linspace(-0.1, 1.5*np.pi, M)\n",
    "N = 4\n",
    "theta1 = np.random.rand(N)*np.pi\n",
    "theta1[0] = vqe_result.x[1]\n",
    "currentVal = np.zeros((N, M))\n",
    "mycolors = np.random.rand(N,3)\n",
    "arguments = hamiltonian, GATE_NAMES, nbShots\n",
    "\n",
    "for k in range(M):\n",
    "    for i in range(N):\n",
    "        currentVal[i,k] = vqe(np.array([tt[k], theta1[i]]), arguments)\n",
    "\n",
    "for i in range(N):\n",
    "    plt.plot(tt, currentVal[i,:], c=mycolors[i], marker='.', label=r'$\\theta_1=$%.2f' %theta1[i])\n",
    "\n",
    "plt.title(r'Hamiltonian expectation as a function of r$\\theta_0$')\n",
    "plt.xlabel(r'\\theta_{0}')\n",
    "plt.legend(loc=\"best\")\n",
    "plt.show()"
   ]
  },
  {
   "cell_type": "markdown",
   "id": "24f0449a-b128-4d11-97d9-1339843d82b8",
   "metadata": {},
   "source": [
    "### Checking the output"
   ]
  },
  {
   "cell_type": "markdown",
   "id": "923ff9a6-bbfb-4786-ad2b-65adcd00f5d2",
   "metadata": {},
   "source": [
    "$$\n",
    "R_{X}(\\theta) := \n",
    "\\begin{pmatrix}\n",
    "\\cos\\left(\\frac{\\theta}{2}\\right) & -\\mathrm{i}\\sin\\left(\\frac{\\theta}{2}\\right)\\\\\n",
    "-\\mathrm{i}\\sin\\left(\\frac{\\theta}{2}\\right) & \\cos\\left(\\frac{\\theta}{2}\\right)\n",
    "\\end{pmatrix}\n",
    "\\qquad\\text{and}\\qquad\n",
    "R_{Y}(\\theta) := \n",
    "\\begin{pmatrix}\n",
    "\\cos\\left(\\frac{\\theta}{2}\\right) & -\\sin\\left(\\frac{\\theta}{2}\\right)\\\\\n",
    "\\sin\\left(\\frac{\\theta}{2}\\right) & \\cos\\left(\\frac{\\theta}{2}\\right)\n",
    "\\end{pmatrix},\n",
    "$$"
   ]
  },
  {
   "cell_type": "markdown",
   "id": "68dfb2fd-8ccd-400c-84e0-fc1fd78ae06f",
   "metadata": {},
   "source": [
    "$$\n",
    "U\\left(\\frac{\\pi}{2}, 0, \\pi\\right) = \\mathrm{H} = \\frac{1}{\\sqrt{2}}\\begin{pmatrix}1&1\\\\1&-1\\end{pmatrix}\n",
    "\\qquad\\text{and}\\qquad\n",
    "U\\left(\\frac{\\pi}{2}, 0, \\frac{\\pi}{2}\\right) = \\mathrm{G} = \\frac{1}{\\sqrt{2}}\\begin{pmatrix}1&-\\mathrm{i}\\\\1&\\mathrm{i}\\end{pmatrix}.\n",
    "$$"
   ]
  },
  {
   "cell_type": "markdown",
   "id": "0fb91e95-08e7-4b1b-a591-a319e5f78809",
   "metadata": {},
   "source": [
    "#### Vector of parameters $(\\theta_0, \\theta_1)$:"
   ]
  },
  {
   "cell_type": "code",
   "execution_count": 16,
   "id": "f7966381-55cc-4477-b82b-3227ca344c69",
   "metadata": {},
   "outputs": [
    {
     "name": "stdout",
     "output_type": "stream",
     "text": [
      "Optimal vector of parameters:  [2.09674299 1.89970459]\n"
     ]
    }
   ],
   "source": [
    "print(\"Optimal vector of parameters: \", vqe_result.x)"
   ]
  },
  {
   "cell_type": "markdown",
   "id": "dac6b0f5-3537-4077-9eb2-50e0c43fc729",
   "metadata": {},
   "source": [
    "#### Original Hamiltonian decomposition:"
   ]
  },
  {
   "cell_type": "code",
   "execution_count": 17,
   "id": "b1ee31a8-72e3-4446-9847-739d7807a34a",
   "metadata": {},
   "outputs": [
    {
     "data": {
      "text/plain": [
       "{'I': 1.3721317026796056,\n",
       " 'Z': 0.45387378089030195,\n",
       " 'X': 1.8607947059115135,\n",
       " 'Y': 2.9925492675576097}"
      ]
     },
     "execution_count": 17,
     "metadata": {},
     "output_type": "execute_result"
    }
   ],
   "source": [
    "hamiltonian"
   ]
  },
  {
   "cell_type": "code",
   "execution_count": 18,
   "id": "b489b4d4-2771-442f-b1ae-9174fb9647c8",
   "metadata": {},
   "outputs": [],
   "source": [
    "def check_eigenstate(vqe_result, hamiltonian, pauli_matrices):\n",
    "    theta = vqe_result.x\n",
    "    Rx = np.matrix([[np.cos(theta[0]/2.), -1j*np.sin(theta[0]/2.)], [-1j*np.sin(theta[0]/2.), np.cos(theta[0]/2.)]])\n",
    "    Ry = np.matrix([[np.cos(theta[1]/2.), -np.sin(theta[1]/2.)], [np.sin(theta[1]/2.), np.cos(theta[1]/2.)]])\n",
    "    \n",
    "    H = np.matrix([[1, 1], [1, -1]]) / np.sqrt(2.)\n",
    "    G = np.matrix([[1, -1j], [1, 1j]]) / np.sqrt(2.)\n",
    "    \n",
    "    initialstate = np.matrix([[1], [0]])\n",
    "    \n",
    "    hamiltonian_matrix = np.zeros((2,2))\n",
    "\n",
    "    for g in GATE_NAMES:\n",
    "        hamiltonian_matrix = hamiltonian_matrix + hamiltonian[g]*pauli_matrices[g]\n",
    "\n",
    "    psi_param = np.matmul(Ry, np.matmul(Rx, initialstate))\n",
    "\n",
    "    return vqe_result.fun*psi_param, hamiltonian_matrix*psi_param"
   ]
  },
  {
   "cell_type": "code",
   "execution_count": 19,
   "id": "6c83183f-0315-421b-ac6b-2b8a469e6c4c",
   "metadata": {},
   "outputs": [
    {
     "data": {
      "text/plain": [
       "(matrix([[-0.61556263-1.49451933j],\n",
       "         [-0.86052341+1.0690822j ]]),\n",
       " matrix([[-0.22354795-0.86565366j],\n",
       "         [-1.19640064+1.71734773j]]))"
      ]
     },
     "execution_count": 19,
     "metadata": {},
     "output_type": "execute_result"
    }
   ],
   "source": [
    "check_eigenstate(vqe_result, hamiltonian, pauli_matrices)"
   ]
  },
  {
   "cell_type": "code",
   "execution_count": null,
   "id": "b74a6f5a-235f-454e-955f-74ecf78c14c3",
   "metadata": {},
   "outputs": [],
   "source": []
  }
 ],
 "metadata": {
  "kernelspec": {
   "display_name": "Python 3 (ipykernel)",
   "language": "python",
   "name": "python3"
  },
  "language_info": {
   "codemirror_mode": {
    "name": "ipython",
    "version": 3
   },
   "file_extension": ".py",
   "mimetype": "text/x-python",
   "name": "python",
   "nbconvert_exporter": "python",
   "pygments_lexer": "ipython3",
   "version": "3.10.11"
  }
 },
 "nbformat": 4,
 "nbformat_minor": 5
}
